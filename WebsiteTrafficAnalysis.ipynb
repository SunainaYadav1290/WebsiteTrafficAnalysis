{
 "cells": [
  {
   "cell_type": "code",
   "execution_count": null,
   "id": "606947a0-b287-40c6-8db8-3ed2c5e92be6",
   "metadata": {},
   "outputs": [],
   "source": [
    "Project : Website Traffic Business Case Study Analysis\n",
    "Goal of the Project:\n",
    "The goal of this project is to understand this traffic better, in particular the volume \n",
    "and distribution of events, and to develop ideas how to increase the links' clickrates. \n",
    "With that in mind,analyze the data using the Python libraries Pandas and SciPy\n",
    "where indicated, providing answers to the presented questions:\n",
    "\n",
    "How many total pageview events did the links in the provided dataset receive in the full period, how many per day?\n",
    "Which countries did the pageviews come from?\n",
    "What was the overall click rate (clicks/pageviews)?\n",
    "How does the clickrate distribute across different links?\n",
    "Is there any correlation between clicks and previews on a link? Is it significant? How large is the effect? Make sure to at least test for potential linear as well as categorical (think binary) relationships between both variables."
   ]
  },
  {
   "cell_type": "code",
   "execution_count": 1,
   "id": "6f71952b-4b3a-4697-a9a1-4f9f7d402ff3",
   "metadata": {},
   "outputs": [],
   "source": [
    "import pandas as pd\n",
    "import numpy as np\n",
    "import seaborn as sns\n",
    "import matplotlib.pyplot as plt\n"
   ]
  },
  {
   "cell_type": "code",
   "execution_count": 2,
   "id": "9732f433-be59-4208-9f03-f38c136e2585",
   "metadata": {},
   "outputs": [],
   "source": [
    "traffic_data=pd.read_csv(r\"C:\\Users\\shaur\\Downloads\\traffic (1)\\traffic.csv\")"
   ]
  },
  {
   "cell_type": "code",
   "execution_count": null,
   "id": "48ec96f2-be0e-4bd5-a1ab-64155f451e92",
   "metadata": {},
   "outputs": [],
   "source": [
    "Exploratory Data Analysis"
   ]
  },
  {
   "cell_type": "code",
   "execution_count": 9,
   "id": "251555fe-b353-4b68-a518-944f1d83648d",
   "metadata": {},
   "outputs": [
    {
     "data": {
      "text/html": [
       "<div>\n",
       "<style scoped>\n",
       "    .dataframe tbody tr th:only-of-type {\n",
       "        vertical-align: middle;\n",
       "    }\n",
       "\n",
       "    .dataframe tbody tr th {\n",
       "        vertical-align: top;\n",
       "    }\n",
       "\n",
       "    .dataframe thead th {\n",
       "        text-align: right;\n",
       "    }\n",
       "</style>\n",
       "<table border=\"1\" class=\"dataframe\">\n",
       "  <thead>\n",
       "    <tr style=\"text-align: right;\">\n",
       "      <th></th>\n",
       "      <th>event</th>\n",
       "      <th>date</th>\n",
       "      <th>country</th>\n",
       "      <th>city</th>\n",
       "      <th>artist</th>\n",
       "      <th>album</th>\n",
       "      <th>track</th>\n",
       "      <th>isrc</th>\n",
       "      <th>linkid</th>\n",
       "    </tr>\n",
       "  </thead>\n",
       "  <tbody>\n",
       "    <tr>\n",
       "      <th>0</th>\n",
       "      <td>click</td>\n",
       "      <td>2021-08-21</td>\n",
       "      <td>Saudi Arabia</td>\n",
       "      <td>Jeddah</td>\n",
       "      <td>Tesher</td>\n",
       "      <td>Jalebi Baby</td>\n",
       "      <td>Jalebi Baby</td>\n",
       "      <td>QZNWQ2070741</td>\n",
       "      <td>2d896d31-97b6-4869-967b-1c5fb9cd4bb8</td>\n",
       "    </tr>\n",
       "    <tr>\n",
       "      <th>1</th>\n",
       "      <td>click</td>\n",
       "      <td>2021-08-21</td>\n",
       "      <td>Saudi Arabia</td>\n",
       "      <td>Jeddah</td>\n",
       "      <td>Tesher</td>\n",
       "      <td>Jalebi Baby</td>\n",
       "      <td>Jalebi Baby</td>\n",
       "      <td>QZNWQ2070741</td>\n",
       "      <td>2d896d31-97b6-4869-967b-1c5fb9cd4bb8</td>\n",
       "    </tr>\n",
       "    <tr>\n",
       "      <th>2</th>\n",
       "      <td>click</td>\n",
       "      <td>2021-08-21</td>\n",
       "      <td>India</td>\n",
       "      <td>Ludhiana</td>\n",
       "      <td>Reyanna Maria</td>\n",
       "      <td>So Pretty</td>\n",
       "      <td>So Pretty</td>\n",
       "      <td>USUM72100871</td>\n",
       "      <td>23199824-9cf5-4b98-942a-34965c3b0cc2</td>\n",
       "    </tr>\n",
       "    <tr>\n",
       "      <th>3</th>\n",
       "      <td>click</td>\n",
       "      <td>2021-08-21</td>\n",
       "      <td>France</td>\n",
       "      <td>Unknown</td>\n",
       "      <td>Simone &amp; Simaria, Sebastian Yatra</td>\n",
       "      <td>No Llores Más</td>\n",
       "      <td>No Llores Más</td>\n",
       "      <td>BRUM72003904</td>\n",
       "      <td>35573248-4e49-47c7-af80-08a960fa74cd</td>\n",
       "    </tr>\n",
       "    <tr>\n",
       "      <th>4</th>\n",
       "      <td>click</td>\n",
       "      <td>2021-08-21</td>\n",
       "      <td>Maldives</td>\n",
       "      <td>Malé</td>\n",
       "      <td>Tesher</td>\n",
       "      <td>Jalebi Baby</td>\n",
       "      <td>Jalebi Baby</td>\n",
       "      <td>QZNWQ2070741</td>\n",
       "      <td>2d896d31-97b6-4869-967b-1c5fb9cd4bb8</td>\n",
       "    </tr>\n",
       "  </tbody>\n",
       "</table>\n",
       "</div>"
      ],
      "text/plain": [
       "   event       date       country      city  \\\n",
       "0  click 2021-08-21  Saudi Arabia    Jeddah   \n",
       "1  click 2021-08-21  Saudi Arabia    Jeddah   \n",
       "2  click 2021-08-21         India  Ludhiana   \n",
       "3  click 2021-08-21        France   Unknown   \n",
       "4  click 2021-08-21      Maldives      Malé   \n",
       "\n",
       "                              artist          album          track  \\\n",
       "0                             Tesher    Jalebi Baby    Jalebi Baby   \n",
       "1                             Tesher    Jalebi Baby    Jalebi Baby   \n",
       "2                      Reyanna Maria      So Pretty      So Pretty   \n",
       "3  Simone & Simaria, Sebastian Yatra  No Llores Más  No Llores Más   \n",
       "4                             Tesher    Jalebi Baby    Jalebi Baby   \n",
       "\n",
       "           isrc                                linkid  \n",
       "0  QZNWQ2070741  2d896d31-97b6-4869-967b-1c5fb9cd4bb8  \n",
       "1  QZNWQ2070741  2d896d31-97b6-4869-967b-1c5fb9cd4bb8  \n",
       "2  USUM72100871  23199824-9cf5-4b98-942a-34965c3b0cc2  \n",
       "3  BRUM72003904  35573248-4e49-47c7-af80-08a960fa74cd  \n",
       "4  QZNWQ2070741  2d896d31-97b6-4869-967b-1c5fb9cd4bb8  "
      ]
     },
     "execution_count": 9,
     "metadata": {},
     "output_type": "execute_result"
    }
   ],
   "source": [
    "traffic_data.head(5)"
   ]
  },
  {
   "cell_type": "code",
   "execution_count": 6,
   "id": "960b42d9-d798-474d-b627-c6540257c7f0",
   "metadata": {},
   "outputs": [
    {
     "name": "stdout",
     "output_type": "stream",
     "text": [
      "<class 'pandas.core.frame.DataFrame'>\n",
      "RangeIndex: 226278 entries, 0 to 226277\n",
      "Data columns (total 9 columns):\n",
      " #   Column   Non-Null Count   Dtype         \n",
      "---  ------   --------------   -----         \n",
      " 0   event    226278 non-null  object        \n",
      " 1   date     226278 non-null  datetime64[ns]\n",
      " 2   country  226267 non-null  object        \n",
      " 3   city     226267 non-null  object        \n",
      " 4   artist   226241 non-null  object        \n",
      " 5   album    226273 non-null  object        \n",
      " 6   track    226273 non-null  object        \n",
      " 7   isrc     219157 non-null  object        \n",
      " 8   linkid   226278 non-null  object        \n",
      "dtypes: datetime64[ns](1), object(8)\n",
      "memory usage: 15.5+ MB\n"
     ]
    }
   ],
   "source": [
    "traffic_data.info()"
   ]
  },
  {
   "cell_type": "code",
   "execution_count": 7,
   "id": "c10ad914-d646-4bed-b52a-c6005ace0b6a",
   "metadata": {},
   "outputs": [
    {
     "data": {
      "text/plain": [
       "(226278, 9)"
      ]
     },
     "execution_count": 7,
     "metadata": {},
     "output_type": "execute_result"
    }
   ],
   "source": [
    "traffic_data.shape"
   ]
  },
  {
   "cell_type": "code",
   "execution_count": null,
   "id": "eeaa8f29-4453-4fbd-80d6-6d4a2596d32e",
   "metadata": {},
   "outputs": [],
   "source": [
    "#Q1 How many total pageview events did the links in the provided dataset receive in the\n",
    "full period, how many per day?"
   ]
  },
  {
   "cell_type": "code",
   "execution_count": null,
   "id": "061f519b-71b5-4825-b24d-a64b4bdd3f9d",
   "metadata": {},
   "outputs": [],
   "source": [
    "# Answer Total Pageview Events are 142015"
   ]
  },
  {
   "cell_type": "code",
   "execution_count": 25,
   "id": "954283cd-27c2-4445-a1fd-ead2ea7d4971",
   "metadata": {},
   "outputs": [
    {
     "data": {
      "text/plain": [
       "event\n",
       "pageview    142015\n",
       "click        55732\n",
       "preview      28531\n",
       "Name: count, dtype: int64"
      ]
     },
     "execution_count": 25,
     "metadata": {},
     "output_type": "execute_result"
    }
   ],
   "source": [
    "traffic_data['event'].value_counts()"
   ]
  },
  {
   "cell_type": "code",
   "execution_count": null,
   "id": "3508af05-830d-4e82-a2d5-5a957e9b170d",
   "metadata": {},
   "outputs": [],
   "source": [
    "pageview_data=traffic_data['event']=='pageview'"
   ]
  },
  {
   "cell_type": "code",
   "execution_count": 28,
   "id": "c3ea94e5-6fdb-473b-a74f-d1fde5f48480",
   "metadata": {},
   "outputs": [],
   "source": [
    "pageview_perday = pageview_data[['event','date']]"
   ]
  },
  {
   "cell_type": "code",
   "execution_count": 34,
   "id": "dc402066-02b3-4100-8943-c5f44cc375f3",
   "metadata": {},
   "outputs": [],
   "source": [
    "grouped=pageview_perday.groupby('date')['event'].size()"
   ]
  },
  {
   "cell_type": "code",
   "execution_count": 35,
   "id": "dee117b0-0f54-4168-a63d-1388010245fb",
   "metadata": {},
   "outputs": [
    {
     "data": {
      "text/plain": [
       "date\n",
       "2021-08-19    22366\n",
       "2021-08-20    21382\n",
       "2021-08-21    21349\n",
       "2021-08-22    20430\n",
       "2021-08-23    18646\n",
       "2021-08-24    18693\n",
       "2021-08-25    19149\n",
       "Name: event, dtype: int64"
      ]
     },
     "execution_count": 35,
     "metadata": {},
     "output_type": "execute_result"
    }
   ],
   "source": [
    "grouped"
   ]
  },
  {
   "cell_type": "code",
   "execution_count": 50,
   "id": "bf6deb1b-6a8a-4462-825a-afd0379308fd",
   "metadata": {},
   "outputs": [
    {
     "name": "stdout",
     "output_type": "stream",
     "text": [
      "<class 'pandas.core.frame.DataFrame'>\n",
      "RangeIndex: 7 entries, 0 to 6\n",
      "Data columns (total 2 columns):\n",
      " #   Column              Non-Null Count  Dtype         \n",
      "---  ------              --------------  -----         \n",
      " 0   date                7 non-null      datetime64[ns]\n",
      " 1   Count of Pageviews  7 non-null      int64         \n",
      "dtypes: datetime64[ns](1), int64(1)\n",
      "memory usage: 244.0 bytes\n"
     ]
    }
   ],
   "source": [
    "df=pd.DataFrame(data=grouped)\n",
    "df.reset_index(inplace=True)\n",
    "df=df.rename(columns={'event':'Count of Pageviews'})\n",
    "df.info()"
   ]
  },
  {
   "cell_type": "code",
   "execution_count": 54,
   "id": "142c3ac5-7b6b-4f47-bf4c-bc040b555efe",
   "metadata": {},
   "outputs": [
    {
     "data": {
      "text/plain": [
       "([0, 1, 2, 3, 4, 5, 6],\n",
       " [Text(0, 0, '2021-08-19'),\n",
       "  Text(1, 0, '2021-08-20'),\n",
       "  Text(2, 0, '2021-08-21'),\n",
       "  Text(3, 0, '2021-08-22'),\n",
       "  Text(4, 0, '2021-08-23'),\n",
       "  Text(5, 0, '2021-08-24'),\n",
       "  Text(6, 0, '2021-08-25')])"
      ]
     },
     "execution_count": 54,
     "metadata": {},
     "output_type": "execute_result"
    },
    {
     "data": {
      "image/png": "[encoded data removed]",
      "text/plain": [
       "<Figure size 640x480 with 1 Axes>"
      ]
     },
     "metadata": {},
     "output_type": "display_data"
    }
   ],
   "source": [
    "sns.barplot(x=df['date'],y=df['Count of Pageviews'],color='cyan')\n",
    "plt.xticks(rotation=50)"
   ]
  },
  {
   "cell_type": "code",
   "execution_count": 55,
   "id": "09040a26-9f01-4ee6-8fc9-70f52e3f552e",
   "metadata": {},
   "outputs": [
    {
     "data": {
      "text/html": [
       "<div>\n",
       "<style scoped>\n",
       "    .dataframe tbody tr th:only-of-type {\n",
       "        vertical-align: middle;\n",
       "    }\n",
       "\n",
       "    .dataframe tbody tr th {\n",
       "        vertical-align: top;\n",
       "    }\n",
       "\n",
       "    .dataframe thead th {\n",
       "        text-align: right;\n",
       "    }\n",
       "</style>\n",
       "<table border=\"1\" class=\"dataframe\">\n",
       "  <thead>\n",
       "    <tr style=\"text-align: right;\">\n",
       "      <th></th>\n",
       "      <th>date</th>\n",
       "      <th>Count of Pageviews</th>\n",
       "    </tr>\n",
       "  </thead>\n",
       "  <tbody>\n",
       "    <tr>\n",
       "      <th>0</th>\n",
       "      <td>2021-08-19</td>\n",
       "      <td>22366</td>\n",
       "    </tr>\n",
       "    <tr>\n",
       "      <th>1</th>\n",
       "      <td>2021-08-20</td>\n",
       "      <td>21382</td>\n",
       "    </tr>\n",
       "    <tr>\n",
       "      <th>2</th>\n",
       "      <td>2021-08-21</td>\n",
       "      <td>21349</td>\n",
       "    </tr>\n",
       "    <tr>\n",
       "      <th>3</th>\n",
       "      <td>2021-08-22</td>\n",
       "      <td>20430</td>\n",
       "    </tr>\n",
       "    <tr>\n",
       "      <th>4</th>\n",
       "      <td>2021-08-23</td>\n",
       "      <td>18646</td>\n",
       "    </tr>\n",
       "    <tr>\n",
       "      <th>5</th>\n",
       "      <td>2021-08-24</td>\n",
       "      <td>18693</td>\n",
       "    </tr>\n",
       "    <tr>\n",
       "      <th>6</th>\n",
       "      <td>2021-08-25</td>\n",
       "      <td>19149</td>\n",
       "    </tr>\n",
       "  </tbody>\n",
       "</table>\n",
       "</div>"
      ],
      "text/plain": [
       "        date  Count of Pageviews\n",
       "0 2021-08-19               22366\n",
       "1 2021-08-20               21382\n",
       "2 2021-08-21               21349\n",
       "3 2021-08-22               20430\n",
       "4 2021-08-23               18646\n",
       "5 2021-08-24               18693\n",
       "6 2021-08-25               19149"
      ]
     },
     "execution_count": 55,
     "metadata": {},
     "output_type": "execute_result"
    }
   ],
   "source": [
    "#Answer Number of pageviews per day"
   ]
  },
  {
   "cell_type": "code",
   "execution_count": null,
   "id": "0a533718-0f2c-4e31-97c8-f5c2dd20cfb8",
   "metadata": {},
   "outputs": [],
   "source": [
    "Q2 Which countries did the pageviews come from?"
   ]
  },
  {
   "cell_type": "code",
   "execution_count": 62,
   "id": "4c56e25a-06d9-4f0f-ba3e-d57ecf0842f4",
   "metadata": {},
   "outputs": [],
   "source": [
    "pageview_country=pageview_data.groupby('country').size()"
   ]
  },
  {
   "cell_type": "code",
   "execution_count": 69,
   "id": "7ff57aa4-cdb6-4574-8941-60e9a98f899c",
   "metadata": {},
   "outputs": [
    {
     "data": {
      "text/plain": [
       "'Saudi Arabia'"
      ]
     },
     "execution_count": 69,
     "metadata": {},
     "output_type": "execute_result"
    }
   ],
   "source": [
    "pageview_country.idxmax()"
   ]
  },
  {
   "cell_type": "code",
   "execution_count": null,
   "id": "942b0b53-d6bd-4d77-90d6-12041c72e377",
   "metadata": {},
   "outputs": [],
   "source": [
    "#Answer  'Saudi Arabia' is the country with maximum pageviews"
   ]
  },
  {
   "cell_type": "code",
   "execution_count": null,
   "id": "0e2da5a1-4c8a-410b-8782-f1697ebcaf58",
   "metadata": {},
   "outputs": [],
   "source": [
    "Q What was the overall click rate (clicks/pageviews)"
   ]
  },
  {
   "cell_type": "code",
   "execution_count": 71,
   "id": "95ec43f1-14ee-4ec9-ba0e-48b18728885f",
   "metadata": {},
   "outputs": [],
   "source": [
    "PageView,Clicks,Preview=traffic_data['event'].value_counts()"
   ]
  },
  {
   "cell_type": "code",
   "execution_count": 77,
   "id": "e7c7b074-ae26-4c72-84a6-b051292a3659",
   "metadata": {},
   "outputs": [
    {
     "name": "stdout",
     "output_type": "stream",
     "text": [
      "Total Pageviews:- 142015 Total Clicks:- 55732\n"
     ]
    }
   ],
   "source": [
    "print('Total Pageviews:-',PageView , 'Total Clicks:-',Clicks)"
   ]
  },
  {
   "cell_type": "code",
   "execution_count": 83,
   "id": "82dd4566-7701-4de6-9257-b41c1b3186a7",
   "metadata": {},
   "outputs": [
    {
     "name": "stdout",
     "output_type": "stream",
     "text": [
      "Answer-> Overall Click Rate:- 2.55\n"
     ]
    }
   ],
   "source": [
    "print('Answer-> Overall Click Rate:-',round(PageView/Clicks,2))"
   ]
  },
  {
   "cell_type": "code",
   "execution_count": null,
   "id": "4c032a18-47b7-48e9-bfcf-f86efb532a8f",
   "metadata": {},
   "outputs": [],
   "source": [
    "Q How does the clickrate distribute across different links?"
   ]
  },
  {
   "cell_type": "code",
   "execution_count": 85,
   "id": "22bc76bd-05a1-473d-9cdc-fe58e147c4ae",
   "metadata": {},
   "outputs": [],
   "source": [
    "click_data=traffic_data['event']=='click'"
   ]
  },
  {
   "cell_type": "code",
   "execution_count": 87,
   "id": "99f69793-9117-40a8-ae16-6d3831e0bca6",
   "metadata": {},
   "outputs": [],
   "source": [
    "df1=traffic_data[click_data]"
   ]
  },
  {
   "cell_type": "code",
   "execution_count": 122,
   "id": "a3dde0fd-037a-4bd5-b72a-7266b100f278",
   "metadata": {},
   "outputs": [
    {
     "data": {
      "text/html": [
       "<div>\n",
       "<style scoped>\n",
       "    .dataframe tbody tr th:only-of-type {\n",
       "        vertical-align: middle;\n",
       "    }\n",
       "\n",
       "    .dataframe tbody tr th {\n",
       "        vertical-align: top;\n",
       "    }\n",
       "\n",
       "    .dataframe thead th {\n",
       "        text-align: right;\n",
       "    }\n",
       "</style>\n",
       "<table border=\"1\" class=\"dataframe\">\n",
       "  <thead>\n",
       "    <tr style=\"text-align: right;\">\n",
       "      <th></th>\n",
       "      <th>event</th>\n",
       "      <th>linkid</th>\n",
       "    </tr>\n",
       "  </thead>\n",
       "  <tbody>\n",
       "    <tr>\n",
       "      <th>0</th>\n",
       "      <td>click</td>\n",
       "      <td>2d896d31-97b6-4869-967b-1c5fb9cd4bb8</td>\n",
       "    </tr>\n",
       "    <tr>\n",
       "      <th>1</th>\n",
       "      <td>click</td>\n",
       "      <td>2d896d31-97b6-4869-967b-1c5fb9cd4bb8</td>\n",
       "    </tr>\n",
       "    <tr>\n",
       "      <th>2</th>\n",
       "      <td>click</td>\n",
       "      <td>23199824-9cf5-4b98-942a-34965c3b0cc2</td>\n",
       "    </tr>\n",
       "    <tr>\n",
       "      <th>3</th>\n",
       "      <td>click</td>\n",
       "      <td>35573248-4e49-47c7-af80-08a960fa74cd</td>\n",
       "    </tr>\n",
       "    <tr>\n",
       "      <th>4</th>\n",
       "      <td>click</td>\n",
       "      <td>2d896d31-97b6-4869-967b-1c5fb9cd4bb8</td>\n",
       "    </tr>\n",
       "    <tr>\n",
       "      <th>...</th>\n",
       "      <td>...</td>\n",
       "      <td>...</td>\n",
       "    </tr>\n",
       "    <tr>\n",
       "      <th>83807</th>\n",
       "      <td>click</td>\n",
       "      <td>522da5cc-8177-4140-97a7-a84fdb4caf1c</td>\n",
       "    </tr>\n",
       "    <tr>\n",
       "      <th>83808</th>\n",
       "      <td>click</td>\n",
       "      <td>af483035-a62c-485c-8e98-257f35e23b4d</td>\n",
       "    </tr>\n",
       "    <tr>\n",
       "      <th>83809</th>\n",
       "      <td>click</td>\n",
       "      <td>e849515b-929d-44c8-a505-e7622f1827e9</td>\n",
       "    </tr>\n",
       "    <tr>\n",
       "      <th>83810</th>\n",
       "      <td>click</td>\n",
       "      <td>8f990f44-6a5d-4294-ab0b-f74e0a8f3b25</td>\n",
       "    </tr>\n",
       "    <tr>\n",
       "      <th>83811</th>\n",
       "      <td>click</td>\n",
       "      <td>275bab3b-16d4-40a7-a674-bf6c7c5f96de</td>\n",
       "    </tr>\n",
       "  </tbody>\n",
       "</table>\n",
       "<p>55732 rows × 2 columns</p>\n",
       "</div>"
      ],
      "text/plain": [
       "       event                                linkid\n",
       "0      click  2d896d31-97b6-4869-967b-1c5fb9cd4bb8\n",
       "1      click  2d896d31-97b6-4869-967b-1c5fb9cd4bb8\n",
       "2      click  23199824-9cf5-4b98-942a-34965c3b0cc2\n",
       "3      click  35573248-4e49-47c7-af80-08a960fa74cd\n",
       "4      click  2d896d31-97b6-4869-967b-1c5fb9cd4bb8\n",
       "...      ...                                   ...\n",
       "83807  click  522da5cc-8177-4140-97a7-a84fdb4caf1c\n",
       "83808  click  af483035-a62c-485c-8e98-257f35e23b4d\n",
       "83809  click  e849515b-929d-44c8-a505-e7622f1827e9\n",
       "83810  click  8f990f44-6a5d-4294-ab0b-f74e0a8f3b25\n",
       "83811  click  275bab3b-16d4-40a7-a674-bf6c7c5f96de\n",
       "\n",
       "[55732 rows x 2 columns]"
      ]
     },
     "execution_count": 122,
     "metadata": {},
     "output_type": "execute_result"
    }
   ],
   "source": [
    "df1.columns\n",
    "df1"
   ]
  },
  {
   "cell_type": "code",
   "execution_count": 92,
   "id": "6fc13964-457c-4b40-a332-c048e05dd9d6",
   "metadata": {},
   "outputs": [],
   "source": [
    "df1=df1[['event','linkid']]"
   ]
  },
  {
   "cell_type": "code",
   "execution_count": 141,
   "id": "f050c451-2720-4e86-82a5-d2900f8e4f63",
   "metadata": {},
   "outputs": [
    {
     "data": {
      "text/html": [
       "<div>\n",
       "<style scoped>\n",
       "    .dataframe tbody tr th:only-of-type {\n",
       "        vertical-align: middle;\n",
       "    }\n",
       "\n",
       "    .dataframe tbody tr th {\n",
       "        vertical-align: top;\n",
       "    }\n",
       "\n",
       "    .dataframe thead th {\n",
       "        text-align: right;\n",
       "    }\n",
       "</style>\n",
       "<table border=\"1\" class=\"dataframe\">\n",
       "  <thead>\n",
       "    <tr style=\"text-align: right;\">\n",
       "      <th></th>\n",
       "      <th>linkid</th>\n",
       "      <th>Click_count</th>\n",
       "    </tr>\n",
       "  </thead>\n",
       "  <tbody>\n",
       "    <tr>\n",
       "      <th>0</th>\n",
       "      <td>00126b32-0c35-507b-981c-02c80d2aa8e7</td>\n",
       "      <td>2</td>\n",
       "    </tr>\n",
       "    <tr>\n",
       "      <th>1</th>\n",
       "      <td>004b9724-abca-5481-b6e9-6148a7ca00a5</td>\n",
       "      <td>1</td>\n",
       "    </tr>\n",
       "    <tr>\n",
       "      <th>2</th>\n",
       "      <td>0063a982-41cd-5629-96d0-e1c4dd72ea11</td>\n",
       "      <td>2</td>\n",
       "    </tr>\n",
       "    <tr>\n",
       "      <th>3</th>\n",
       "      <td>006af6a0-1f0d-4b0c-93bf-756af9071c06</td>\n",
       "      <td>8</td>\n",
       "    </tr>\n",
       "    <tr>\n",
       "      <th>4</th>\n",
       "      <td>00759b81-3f04-4a61-b934-f8fb3185f4a0</td>\n",
       "      <td>3</td>\n",
       "    </tr>\n",
       "    <tr>\n",
       "      <th>...</th>\n",
       "      <td>...</td>\n",
       "      <td>...</td>\n",
       "    </tr>\n",
       "    <tr>\n",
       "      <th>2250</th>\n",
       "      <td>ffd8d5a7-91bc-48e1-a692-c26fca8a8ead</td>\n",
       "      <td>29</td>\n",
       "    </tr>\n",
       "    <tr>\n",
       "      <th>2251</th>\n",
       "      <td>fff38ca0-8043-50cd-a5f1-f65ebb7105c5</td>\n",
       "      <td>1</td>\n",
       "    </tr>\n",
       "    <tr>\n",
       "      <th>2252</th>\n",
       "      <td>fff84c0e-90a1-59d8-9997-adc909d50e16</td>\n",
       "      <td>1</td>\n",
       "    </tr>\n",
       "    <tr>\n",
       "      <th>2253</th>\n",
       "      <td>fffc17a7-f935-5d3e-bd3e-d761fd80d479</td>\n",
       "      <td>1</td>\n",
       "    </tr>\n",
       "    <tr>\n",
       "      <th>2254</th>\n",
       "      <td>fffd0045-29de-522b-b5d8-35786363bf07</td>\n",
       "      <td>1</td>\n",
       "    </tr>\n",
       "  </tbody>\n",
       "</table>\n",
       "<p>2255 rows × 2 columns</p>\n",
       "</div>"
      ],
      "text/plain": [
       "                                    linkid  Click_count\n",
       "0     00126b32-0c35-507b-981c-02c80d2aa8e7            2\n",
       "1     004b9724-abca-5481-b6e9-6148a7ca00a5            1\n",
       "2     0063a982-41cd-5629-96d0-e1c4dd72ea11            2\n",
       "3     006af6a0-1f0d-4b0c-93bf-756af9071c06            8\n",
       "4     00759b81-3f04-4a61-b934-f8fb3185f4a0            3\n",
       "...                                    ...          ...\n",
       "2250  ffd8d5a7-91bc-48e1-a692-c26fca8a8ead           29\n",
       "2251  fff38ca0-8043-50cd-a5f1-f65ebb7105c5            1\n",
       "2252  fff84c0e-90a1-59d8-9997-adc909d50e16            1\n",
       "2253  fffc17a7-f935-5d3e-bd3e-d761fd80d479            1\n",
       "2254  fffd0045-29de-522b-b5d8-35786363bf07            1\n",
       "\n",
       "[2255 rows x 2 columns]"
      ]
     },
     "execution_count": 141,
     "metadata": {},
     "output_type": "execute_result"
    }
   ],
   "source": [
    "link_click=df1.groupby('linkid').size()\n",
    "linkbyclick=pd.DataFrame(link_click)\n",
    "linkbyclick.reset_index(inplace=True)\n",
    "linkbyclick.rename(columns={0:'Click_count'},inplace=True)\n",
    "linkbyclick"
   ]
  },
  {
   "cell_type": "code",
   "execution_count": 95,
   "id": "55383af5-344f-471a-aeff-2cbdc87228e4",
   "metadata": {},
   "outputs": [
    {
     "data": {
      "text/html": [
       "<div>\n",
       "<style scoped>\n",
       "    .dataframe tbody tr th:only-of-type {\n",
       "        vertical-align: middle;\n",
       "    }\n",
       "\n",
       "    .dataframe tbody tr th {\n",
       "        vertical-align: top;\n",
       "    }\n",
       "\n",
       "    .dataframe thead th {\n",
       "        text-align: right;\n",
       "    }\n",
       "</style>\n",
       "<table border=\"1\" class=\"dataframe\">\n",
       "  <thead>\n",
       "    <tr style=\"text-align: right;\">\n",
       "      <th></th>\n",
       "      <th>event</th>\n",
       "      <th>date</th>\n",
       "      <th>country</th>\n",
       "      <th>city</th>\n",
       "      <th>artist</th>\n",
       "      <th>album</th>\n",
       "      <th>track</th>\n",
       "      <th>isrc</th>\n",
       "      <th>linkid</th>\n",
       "    </tr>\n",
       "  </thead>\n",
       "  <tbody>\n",
       "    <tr>\n",
       "      <th>84043</th>\n",
       "      <td>pageview</td>\n",
       "      <td>2021-08-19</td>\n",
       "      <td>Saudi Arabia</td>\n",
       "      <td>Riyadh</td>\n",
       "      <td>Tesher</td>\n",
       "      <td>Jalebi Baby</td>\n",
       "      <td>Jalebi Baby</td>\n",
       "      <td>QZNWQ2070741</td>\n",
       "      <td>2d896d31-97b6-4869-967b-1c5fb9cd4bb8</td>\n",
       "    </tr>\n",
       "    <tr>\n",
       "      <th>84044</th>\n",
       "      <td>pageview</td>\n",
       "      <td>2021-08-19</td>\n",
       "      <td>United States</td>\n",
       "      <td>Absecon</td>\n",
       "      <td>KA$HDAMI</td>\n",
       "      <td>epiphany</td>\n",
       "      <td>Reparations!</td>\n",
       "      <td>QZFYY2115255</td>\n",
       "      <td>9c61dba1-9369-4ee4-a215-1d34581cd811</td>\n",
       "    </tr>\n",
       "    <tr>\n",
       "      <th>84045</th>\n",
       "      <td>pageview</td>\n",
       "      <td>2021-08-19</td>\n",
       "      <td>Saudi Arabia</td>\n",
       "      <td>Riyadh</td>\n",
       "      <td>Tesher</td>\n",
       "      <td>Jalebi Baby</td>\n",
       "      <td>Jalebi Baby</td>\n",
       "      <td>QZNWQ2070741</td>\n",
       "      <td>2d896d31-97b6-4869-967b-1c5fb9cd4bb8</td>\n",
       "    </tr>\n",
       "    <tr>\n",
       "      <th>84046</th>\n",
       "      <td>pageview</td>\n",
       "      <td>2021-08-19</td>\n",
       "      <td>Ireland</td>\n",
       "      <td>Mullingar</td>\n",
       "      <td>Cardi B</td>\n",
       "      <td>Up</td>\n",
       "      <td>Up</td>\n",
       "      <td>USAT22100061</td>\n",
       "      <td>9d847c0e-6824-438f-9dc1-d76fca6dc87c</td>\n",
       "    </tr>\n",
       "    <tr>\n",
       "      <th>84047</th>\n",
       "      <td>pageview</td>\n",
       "      <td>2021-08-19</td>\n",
       "      <td>United Kingdom</td>\n",
       "      <td>Northampton</td>\n",
       "      <td>Kayla Nicole, Taylor Girlz, Flo Milli</td>\n",
       "      <td>Bundles 2 (feat. Flo Milli, Taylor Girlz)</td>\n",
       "      <td>Bundles 2 (feat. Flo Milli, Taylor Girlz)</td>\n",
       "      <td>QMCE32100359</td>\n",
       "      <td>fbf4b935-f961-4b13-b1d8-45ad47093559</td>\n",
       "    </tr>\n",
       "    <tr>\n",
       "      <th>...</th>\n",
       "      <td>...</td>\n",
       "      <td>...</td>\n",
       "      <td>...</td>\n",
       "      <td>...</td>\n",
       "      <td>...</td>\n",
       "      <td>...</td>\n",
       "      <td>...</td>\n",
       "      <td>...</td>\n",
       "      <td>...</td>\n",
       "    </tr>\n",
       "    <tr>\n",
       "      <th>226273</th>\n",
       "      <td>pageview</td>\n",
       "      <td>2021-08-24</td>\n",
       "      <td>Kuwait</td>\n",
       "      <td>Kuwait City</td>\n",
       "      <td>Sean Paul</td>\n",
       "      <td>The Trinity</td>\n",
       "      <td>Temperature</td>\n",
       "      <td>USAT20505520</td>\n",
       "      <td>04ba6b17-1055-4f0e-a75e-3cdb0d0d4106</td>\n",
       "    </tr>\n",
       "    <tr>\n",
       "      <th>226274</th>\n",
       "      <td>pageview</td>\n",
       "      <td>2021-08-24</td>\n",
       "      <td>India</td>\n",
       "      <td>Chennai</td>\n",
       "      <td>Miscél</td>\n",
       "      <td>when you left</td>\n",
       "      <td>when you left</td>\n",
       "      <td>QM42K1907890</td>\n",
       "      <td>2fc15e8b-83aa-40ee-9f9d-5d96c6d4356c</td>\n",
       "    </tr>\n",
       "    <tr>\n",
       "      <th>226275</th>\n",
       "      <td>pageview</td>\n",
       "      <td>2021-08-24</td>\n",
       "      <td>India</td>\n",
       "      <td>Jaipur</td>\n",
       "      <td>Trippie Redd, Lil Uzi Vert</td>\n",
       "      <td>Holy Smokes (feat. Lil Uzi Vert)</td>\n",
       "      <td>Holy Smokes</td>\n",
       "      <td>QZJ842001118</td>\n",
       "      <td>eedc8702-6bd2-499a-972f-260c35f72e0f</td>\n",
       "    </tr>\n",
       "    <tr>\n",
       "      <th>226276</th>\n",
       "      <td>pageview</td>\n",
       "      <td>2021-08-24</td>\n",
       "      <td>France</td>\n",
       "      <td>Unknown</td>\n",
       "      <td>Young Thug</td>\n",
       "      <td>Tick Tock</td>\n",
       "      <td>Tick Tock</td>\n",
       "      <td>USAT22104514</td>\n",
       "      <td>e0a76dc3-7ccd-405f-8ee8-a2c55c0e0ed2</td>\n",
       "    </tr>\n",
       "    <tr>\n",
       "      <th>226277</th>\n",
       "      <td>pageview</td>\n",
       "      <td>2021-08-24</td>\n",
       "      <td>Iraq</td>\n",
       "      <td>Duhok</td>\n",
       "      <td>Tesher</td>\n",
       "      <td>Jalebi Baby</td>\n",
       "      <td>Jalebi Baby</td>\n",
       "      <td>QZNWQ2070741</td>\n",
       "      <td>2d896d31-97b6-4869-967b-1c5fb9cd4bb8</td>\n",
       "    </tr>\n",
       "  </tbody>\n",
       "</table>\n",
       "<p>142015 rows × 9 columns</p>\n",
       "</div>"
      ],
      "text/plain": [
       "           event       date         country         city  \\\n",
       "84043   pageview 2021-08-19    Saudi Arabia       Riyadh   \n",
       "84044   pageview 2021-08-19   United States      Absecon   \n",
       "84045   pageview 2021-08-19    Saudi Arabia       Riyadh   \n",
       "84046   pageview 2021-08-19         Ireland    Mullingar   \n",
       "84047   pageview 2021-08-19  United Kingdom  Northampton   \n",
       "...          ...        ...             ...          ...   \n",
       "226273  pageview 2021-08-24          Kuwait  Kuwait City   \n",
       "226274  pageview 2021-08-24           India      Chennai   \n",
       "226275  pageview 2021-08-24           India       Jaipur   \n",
       "226276  pageview 2021-08-24          France      Unknown   \n",
       "226277  pageview 2021-08-24            Iraq        Duhok   \n",
       "\n",
       "                                       artist  \\\n",
       "84043                                  Tesher   \n",
       "84044                                KA$HDAMI   \n",
       "84045                                  Tesher   \n",
       "84046                                 Cardi B   \n",
       "84047   Kayla Nicole, Taylor Girlz, Flo Milli   \n",
       "...                                       ...   \n",
       "226273                              Sean Paul   \n",
       "226274                                 Miscél   \n",
       "226275             Trippie Redd, Lil Uzi Vert   \n",
       "226276                             Young Thug   \n",
       "226277                                 Tesher   \n",
       "\n",
       "                                            album  \\\n",
       "84043                                 Jalebi Baby   \n",
       "84044                                    epiphany   \n",
       "84045                                 Jalebi Baby   \n",
       "84046                                          Up   \n",
       "84047   Bundles 2 (feat. Flo Milli, Taylor Girlz)   \n",
       "...                                           ...   \n",
       "226273                                The Trinity   \n",
       "226274                              when you left   \n",
       "226275           Holy Smokes (feat. Lil Uzi Vert)   \n",
       "226276                                  Tick Tock   \n",
       "226277                                Jalebi Baby   \n",
       "\n",
       "                                            track          isrc  \\\n",
       "84043                                 Jalebi Baby  QZNWQ2070741   \n",
       "84044                                Reparations!  QZFYY2115255   \n",
       "84045                                 Jalebi Baby  QZNWQ2070741   \n",
       "84046                                          Up  USAT22100061   \n",
       "84047   Bundles 2 (feat. Flo Milli, Taylor Girlz)  QMCE32100359   \n",
       "...                                           ...           ...   \n",
       "226273                                Temperature  USAT20505520   \n",
       "226274                              when you left  QM42K1907890   \n",
       "226275                                Holy Smokes  QZJ842001118   \n",
       "226276                                  Tick Tock  USAT22104514   \n",
       "226277                                Jalebi Baby  QZNWQ2070741   \n",
       "\n",
       "                                      linkid  \n",
       "84043   2d896d31-97b6-4869-967b-1c5fb9cd4bb8  \n",
       "84044   9c61dba1-9369-4ee4-a215-1d34581cd811  \n",
       "84045   2d896d31-97b6-4869-967b-1c5fb9cd4bb8  \n",
       "84046   9d847c0e-6824-438f-9dc1-d76fca6dc87c  \n",
       "84047   fbf4b935-f961-4b13-b1d8-45ad47093559  \n",
       "...                                      ...  \n",
       "226273  04ba6b17-1055-4f0e-a75e-3cdb0d0d4106  \n",
       "226274  2fc15e8b-83aa-40ee-9f9d-5d96c6d4356c  \n",
       "226275  eedc8702-6bd2-499a-972f-260c35f72e0f  \n",
       "226276  e0a76dc3-7ccd-405f-8ee8-a2c55c0e0ed2  \n",
       "226277  2d896d31-97b6-4869-967b-1c5fb9cd4bb8  \n",
       "\n",
       "[142015 rows x 9 columns]"
      ]
     },
     "execution_count": 95,
     "metadata": {},
     "output_type": "execute_result"
    }
   ],
   "source": [
    "pageview_data"
   ]
  },
  {
   "cell_type": "code",
   "execution_count": 96,
   "id": "89c74a2b-9964-4775-bb06-9ab6a389b640",
   "metadata": {},
   "outputs": [],
   "source": [
    "df2=pageview_data[['event','linkid']]"
   ]
  },
  {
   "cell_type": "code",
   "execution_count": 97,
   "id": "4a07cbb2-6988-4012-b569-30f33853d72a",
   "metadata": {},
   "outputs": [
    {
     "data": {
      "text/html": [
       "<div>\n",
       "<style scoped>\n",
       "    .dataframe tbody tr th:only-of-type {\n",
       "        vertical-align: middle;\n",
       "    }\n",
       "\n",
       "    .dataframe tbody tr th {\n",
       "        vertical-align: top;\n",
       "    }\n",
       "\n",
       "    .dataframe thead th {\n",
       "        text-align: right;\n",
       "    }\n",
       "</style>\n",
       "<table border=\"1\" class=\"dataframe\">\n",
       "  <thead>\n",
       "    <tr style=\"text-align: right;\">\n",
       "      <th></th>\n",
       "      <th>event</th>\n",
       "      <th>linkid</th>\n",
       "    </tr>\n",
       "  </thead>\n",
       "  <tbody>\n",
       "    <tr>\n",
       "      <th>84043</th>\n",
       "      <td>pageview</td>\n",
       "      <td>2d896d31-97b6-4869-967b-1c5fb9cd4bb8</td>\n",
       "    </tr>\n",
       "    <tr>\n",
       "      <th>84044</th>\n",
       "      <td>pageview</td>\n",
       "      <td>9c61dba1-9369-4ee4-a215-1d34581cd811</td>\n",
       "    </tr>\n",
       "    <tr>\n",
       "      <th>84045</th>\n",
       "      <td>pageview</td>\n",
       "      <td>2d896d31-97b6-4869-967b-1c5fb9cd4bb8</td>\n",
       "    </tr>\n",
       "    <tr>\n",
       "      <th>84046</th>\n",
       "      <td>pageview</td>\n",
       "      <td>9d847c0e-6824-438f-9dc1-d76fca6dc87c</td>\n",
       "    </tr>\n",
       "    <tr>\n",
       "      <th>84047</th>\n",
       "      <td>pageview</td>\n",
       "      <td>fbf4b935-f961-4b13-b1d8-45ad47093559</td>\n",
       "    </tr>\n",
       "    <tr>\n",
       "      <th>...</th>\n",
       "      <td>...</td>\n",
       "      <td>...</td>\n",
       "    </tr>\n",
       "    <tr>\n",
       "      <th>226273</th>\n",
       "      <td>pageview</td>\n",
       "      <td>04ba6b17-1055-4f0e-a75e-3cdb0d0d4106</td>\n",
       "    </tr>\n",
       "    <tr>\n",
       "      <th>226274</th>\n",
       "      <td>pageview</td>\n",
       "      <td>2fc15e8b-83aa-40ee-9f9d-5d96c6d4356c</td>\n",
       "    </tr>\n",
       "    <tr>\n",
       "      <th>226275</th>\n",
       "      <td>pageview</td>\n",
       "      <td>eedc8702-6bd2-499a-972f-260c35f72e0f</td>\n",
       "    </tr>\n",
       "    <tr>\n",
       "      <th>226276</th>\n",
       "      <td>pageview</td>\n",
       "      <td>e0a76dc3-7ccd-405f-8ee8-a2c55c0e0ed2</td>\n",
       "    </tr>\n",
       "    <tr>\n",
       "      <th>226277</th>\n",
       "      <td>pageview</td>\n",
       "      <td>2d896d31-97b6-4869-967b-1c5fb9cd4bb8</td>\n",
       "    </tr>\n",
       "  </tbody>\n",
       "</table>\n",
       "<p>142015 rows × 2 columns</p>\n",
       "</div>"
      ],
      "text/plain": [
       "           event                                linkid\n",
       "84043   pageview  2d896d31-97b6-4869-967b-1c5fb9cd4bb8\n",
       "84044   pageview  9c61dba1-9369-4ee4-a215-1d34581cd811\n",
       "84045   pageview  2d896d31-97b6-4869-967b-1c5fb9cd4bb8\n",
       "84046   pageview  9d847c0e-6824-438f-9dc1-d76fca6dc87c\n",
       "84047   pageview  fbf4b935-f961-4b13-b1d8-45ad47093559\n",
       "...          ...                                   ...\n",
       "226273  pageview  04ba6b17-1055-4f0e-a75e-3cdb0d0d4106\n",
       "226274  pageview  2fc15e8b-83aa-40ee-9f9d-5d96c6d4356c\n",
       "226275  pageview  eedc8702-6bd2-499a-972f-260c35f72e0f\n",
       "226276  pageview  e0a76dc3-7ccd-405f-8ee8-a2c55c0e0ed2\n",
       "226277  pageview  2d896d31-97b6-4869-967b-1c5fb9cd4bb8\n",
       "\n",
       "[142015 rows x 2 columns]"
      ]
     },
     "execution_count": 97,
     "metadata": {},
     "output_type": "execute_result"
    }
   ],
   "source": [
    "df2"
   ]
  },
  {
   "cell_type": "code",
   "execution_count": 149,
   "id": "561f5a6c-8b6f-4ecd-b498-0f4e15d2fd87",
   "metadata": {},
   "outputs": [
    {
     "data": {
      "text/html": [
       "<div>\n",
       "<style scoped>\n",
       "    .dataframe tbody tr th:only-of-type {\n",
       "        vertical-align: middle;\n",
       "    }\n",
       "\n",
       "    .dataframe tbody tr th {\n",
       "        vertical-align: top;\n",
       "    }\n",
       "\n",
       "    .dataframe thead th {\n",
       "        text-align: right;\n",
       "    }\n",
       "</style>\n",
       "<table border=\"1\" class=\"dataframe\">\n",
       "  <thead>\n",
       "    <tr style=\"text-align: right;\">\n",
       "      <th></th>\n",
       "      <th>pageviewsCount_by_link</th>\n",
       "    </tr>\n",
       "    <tr>\n",
       "      <th>linkid</th>\n",
       "      <th></th>\n",
       "    </tr>\n",
       "  </thead>\n",
       "  <tbody>\n",
       "    <tr>\n",
       "      <th>00073307-ae96-5089-a117-4783afb42f8e</th>\n",
       "      <td>2</td>\n",
       "    </tr>\n",
       "    <tr>\n",
       "      <th>00126b32-0c35-507b-981c-02c80d2aa8e7</th>\n",
       "      <td>2</td>\n",
       "    </tr>\n",
       "    <tr>\n",
       "      <th>0018cfff-50a1-5984-9715-01ef2d11a49a</th>\n",
       "      <td>1</td>\n",
       "    </tr>\n",
       "    <tr>\n",
       "      <th>0033934b-5d16-5a06-af58-d087bcdd3680</th>\n",
       "      <td>1</td>\n",
       "    </tr>\n",
       "    <tr>\n",
       "      <th>0034d6cf-3bd8-5ffe-aafc-b3959fc48608</th>\n",
       "      <td>1</td>\n",
       "    </tr>\n",
       "    <tr>\n",
       "      <th>...</th>\n",
       "      <td>...</td>\n",
       "    </tr>\n",
       "    <tr>\n",
       "      <th>fff38ca0-8043-50cd-a5f1-f65ebb7105c5</th>\n",
       "      <td>1</td>\n",
       "    </tr>\n",
       "    <tr>\n",
       "      <th>fff4e5f0-4ee5-5fe7-aa30-e870edaf6ed7</th>\n",
       "      <td>2</td>\n",
       "    </tr>\n",
       "    <tr>\n",
       "      <th>fff84c0e-90a1-59d8-9997-adc909d50e16</th>\n",
       "      <td>1</td>\n",
       "    </tr>\n",
       "    <tr>\n",
       "      <th>fffc17a7-f935-5d3e-bd3e-d761fd80d479</th>\n",
       "      <td>2</td>\n",
       "    </tr>\n",
       "    <tr>\n",
       "      <th>fffd0045-29de-522b-b5d8-35786363bf07</th>\n",
       "      <td>2</td>\n",
       "    </tr>\n",
       "  </tbody>\n",
       "</table>\n",
       "<p>3837 rows × 1 columns</p>\n",
       "</div>"
      ],
      "text/plain": [
       "                                      pageviewsCount_by_link\n",
       "linkid                                                      \n",
       "00073307-ae96-5089-a117-4783afb42f8e                       2\n",
       "00126b32-0c35-507b-981c-02c80d2aa8e7                       2\n",
       "0018cfff-50a1-5984-9715-01ef2d11a49a                       1\n",
       "0033934b-5d16-5a06-af58-d087bcdd3680                       1\n",
       "0034d6cf-3bd8-5ffe-aafc-b3959fc48608                       1\n",
       "...                                                      ...\n",
       "fff38ca0-8043-50cd-a5f1-f65ebb7105c5                       1\n",
       "fff4e5f0-4ee5-5fe7-aa30-e870edaf6ed7                       2\n",
       "fff84c0e-90a1-59d8-9997-adc909d50e16                       1\n",
       "fffc17a7-f935-5d3e-bd3e-d761fd80d479                       2\n",
       "fffd0045-29de-522b-b5d8-35786363bf07                       2\n",
       "\n",
       "[3837 rows x 1 columns]"
      ]
     },
     "execution_count": 149,
     "metadata": {},
     "output_type": "execute_result"
    }
   ],
   "source": [
    "link_pageview=df2.groupby('linkid').size()\n",
    "linkbypageview=pd.DataFrame(link_pageview)\n",
    "linkbypageview.rename(columns={0:'pageviewsCount_by_link'},inplace=True)\n",
    "linkbypageview"
   ]
  },
  {
   "cell_type": "code",
   "execution_count": 165,
   "id": "1e279049-f00b-40f1-a9cb-27126c944bfa",
   "metadata": {},
   "outputs": [
    {
     "data": {
      "text/html": [
       "<div>\n",
       "<style scoped>\n",
       "    .dataframe tbody tr th:only-of-type {\n",
       "        vertical-align: middle;\n",
       "    }\n",
       "\n",
       "    .dataframe tbody tr th {\n",
       "        vertical-align: top;\n",
       "    }\n",
       "\n",
       "    .dataframe thead th {\n",
       "        text-align: right;\n",
       "    }\n",
       "</style>\n",
       "<table border=\"1\" class=\"dataframe\">\n",
       "  <thead>\n",
       "    <tr style=\"text-align: right;\">\n",
       "      <th></th>\n",
       "      <th>linkid</th>\n",
       "      <th>pageviewsCount_by_link</th>\n",
       "      <th>Click_count</th>\n",
       "    </tr>\n",
       "  </thead>\n",
       "  <tbody>\n",
       "    <tr>\n",
       "      <th>0</th>\n",
       "      <td>00126b32-0c35-507b-981c-02c80d2aa8e7</td>\n",
       "      <td>2</td>\n",
       "      <td>2</td>\n",
       "    </tr>\n",
       "    <tr>\n",
       "      <th>1</th>\n",
       "      <td>004b9724-abca-5481-b6e9-6148a7ca00a5</td>\n",
       "      <td>1</td>\n",
       "      <td>1</td>\n",
       "    </tr>\n",
       "    <tr>\n",
       "      <th>2</th>\n",
       "      <td>0063a982-41cd-5629-96d0-e1c4dd72ea11</td>\n",
       "      <td>3</td>\n",
       "      <td>2</td>\n",
       "    </tr>\n",
       "    <tr>\n",
       "      <th>3</th>\n",
       "      <td>006af6a0-1f0d-4b0c-93bf-756af9071c06</td>\n",
       "      <td>36</td>\n",
       "      <td>8</td>\n",
       "    </tr>\n",
       "    <tr>\n",
       "      <th>4</th>\n",
       "      <td>00759b81-3f04-4a61-b934-f8fb3185f4a0</td>\n",
       "      <td>4</td>\n",
       "      <td>3</td>\n",
       "    </tr>\n",
       "    <tr>\n",
       "      <th>...</th>\n",
       "      <td>...</td>\n",
       "      <td>...</td>\n",
       "      <td>...</td>\n",
       "    </tr>\n",
       "    <tr>\n",
       "      <th>2248</th>\n",
       "      <td>ffd8d5a7-91bc-48e1-a692-c26fca8a8ead</td>\n",
       "      <td>84</td>\n",
       "      <td>29</td>\n",
       "    </tr>\n",
       "    <tr>\n",
       "      <th>2249</th>\n",
       "      <td>fff38ca0-8043-50cd-a5f1-f65ebb7105c5</td>\n",
       "      <td>1</td>\n",
       "      <td>1</td>\n",
       "    </tr>\n",
       "    <tr>\n",
       "      <th>2250</th>\n",
       "      <td>fff84c0e-90a1-59d8-9997-adc909d50e16</td>\n",
       "      <td>1</td>\n",
       "      <td>1</td>\n",
       "    </tr>\n",
       "    <tr>\n",
       "      <th>2251</th>\n",
       "      <td>fffc17a7-f935-5d3e-bd3e-d761fd80d479</td>\n",
       "      <td>2</td>\n",
       "      <td>1</td>\n",
       "    </tr>\n",
       "    <tr>\n",
       "      <th>2252</th>\n",
       "      <td>fffd0045-29de-522b-b5d8-35786363bf07</td>\n",
       "      <td>2</td>\n",
       "      <td>1</td>\n",
       "    </tr>\n",
       "  </tbody>\n",
       "</table>\n",
       "<p>2253 rows × 3 columns</p>\n",
       "</div>"
      ],
      "text/plain": [
       "                                    linkid  pageviewsCount_by_link  \\\n",
       "0     00126b32-0c35-507b-981c-02c80d2aa8e7                       2   \n",
       "1     004b9724-abca-5481-b6e9-6148a7ca00a5                       1   \n",
       "2     0063a982-41cd-5629-96d0-e1c4dd72ea11                       3   \n",
       "3     006af6a0-1f0d-4b0c-93bf-756af9071c06                      36   \n",
       "4     00759b81-3f04-4a61-b934-f8fb3185f4a0                       4   \n",
       "...                                    ...                     ...   \n",
       "2248  ffd8d5a7-91bc-48e1-a692-c26fca8a8ead                      84   \n",
       "2249  fff38ca0-8043-50cd-a5f1-f65ebb7105c5                       1   \n",
       "2250  fff84c0e-90a1-59d8-9997-adc909d50e16                       1   \n",
       "2251  fffc17a7-f935-5d3e-bd3e-d761fd80d479                       2   \n",
       "2252  fffd0045-29de-522b-b5d8-35786363bf07                       2   \n",
       "\n",
       "      Click_count  \n",
       "0               2  \n",
       "1               1  \n",
       "2               2  \n",
       "3               8  \n",
       "4               3  \n",
       "...           ...  \n",
       "2248           29  \n",
       "2249            1  \n",
       "2250            1  \n",
       "2251            1  \n",
       "2252            1  \n",
       "\n",
       "[2253 rows x 3 columns]"
      ]
     },
     "execution_count": 165,
     "metadata": {},
     "output_type": "execute_result"
    }
   ],
   "source": [
    "df3 = linkbypageview.merge(linkbyclick,on='linkid')\n",
    "df3"
   ]
  },
  {
   "cell_type": "code",
   "execution_count": 166,
   "id": "c0f42a48-35bc-4ef4-aec8-ffb87e2c2e6f",
   "metadata": {},
   "outputs": [],
   "source": [
    "df3['ClickThroughRate']=round(df3['pageviewsCount_by_link']/df3['Click_count'],2)"
   ]
  },
  {
   "cell_type": "code",
   "execution_count": 168,
   "id": "00823fc3-38a2-47f3-99cb-1e4a14d899da",
   "metadata": {},
   "outputs": [],
   "source": [
    "df3.sort_values(by=['ClickThroughRate'],ascending=False,inplace=True)"
   ]
  },
  {
   "cell_type": "code",
   "execution_count": 179,
   "id": "4e76e929-5eed-40de-8a84-b5c2145665e6",
   "metadata": {},
   "outputs": [],
   "source": [
    "df4=df3.head(10)"
   ]
  },
  {
   "cell_type": "code",
   "execution_count": 182,
   "id": "a15d442f-6d11-4bc5-aa64-8d3bd1bbc703",
   "metadata": {},
   "outputs": [
    {
     "data": {
      "text/plain": [
       "<Axes: xlabel='ClickThroughRate', ylabel='linkid'>"
      ]
     },
     "execution_count": 182,
     "metadata": {},
     "output_type": "execute_result"
    },
    {
     "data": {
      "image/png": "[encoded data removed]",
      "text/plain": [
       "<Figure size 640x480 with 1 Axes>"
      ]
     },
     "metadata": {},
     "output_type": "display_data"
    }
   ],
   "source": [
    "sns.lineplot(y=df4['linkid'],x=df4['ClickThroughRate'])"
   ]
  },
  {
   "cell_type": "code",
   "execution_count": null,
   "id": "b8d616a5-5463-4275-8413-407e3181f33a",
   "metadata": {},
   "outputs": [],
   "source": [
    "#Top 10 linkid's with their click through rate"
   ]
  },
  {
   "cell_type": "code",
   "execution_count": null,
   "id": "6f05cc47-054f-4b81-9db5-62f12291e4ef",
   "metadata": {},
   "outputs": [],
   "source": [
    "Is there any correlation between clicks and previews on a link? Is it significant? How large is the effect? Make sure to at least test for potential linear as well as categorical (think binary) relationships between both variables."
   ]
  },
  {
   "cell_type": "code",
   "execution_count": 183,
   "id": "bf37722c-afb9-47dc-bee0-8278e65fac4d",
   "metadata": {},
   "outputs": [],
   "source": [
    "preview_data=traffic_data['event']=='preview'"
   ]
  },
  {
   "cell_type": "code",
   "execution_count": 184,
   "id": "90ec3f6a-9512-4bd4-bbea-4b01f651ff73",
   "metadata": {},
   "outputs": [
    {
     "data": {
      "text/plain": [
       "0         False\n",
       "1         False\n",
       "2         False\n",
       "3         False\n",
       "4         False\n",
       "          ...  \n",
       "226273    False\n",
       "226274    False\n",
       "226275    False\n",
       "226276    False\n",
       "226277    False\n",
       "Name: event, Length: 226278, dtype: bool"
      ]
     },
     "execution_count": 184,
     "metadata": {},
     "output_type": "execute_result"
    }
   ],
   "source": [
    "preview_data"
   ]
  },
  {
   "cell_type": "code",
   "execution_count": 185,
   "id": "9896b126-79ac-4ad5-93c9-5f4c2b37b209",
   "metadata": {},
   "outputs": [],
   "source": [
    "preview_data=traffic_data[preview_data]"
   ]
  },
  {
   "cell_type": "code",
   "execution_count": 187,
   "id": "9abf81d3-2b91-4cc7-9edf-10b020a30e24",
   "metadata": {},
   "outputs": [],
   "source": [
    "preview_data=preview_data[['event','linkid']]"
   ]
  },
  {
   "cell_type": "code",
   "execution_count": 208,
   "id": "dcfeffb4-9482-4bbd-b831-e467c29b34e7",
   "metadata": {},
   "outputs": [],
   "source": [
    "grouped=preview_data.groupby('linkid').size()\n"
   ]
  },
  {
   "cell_type": "code",
   "execution_count": 211,
   "id": "8f9bb723-cdac-4961-9f63-438b52674833",
   "metadata": {},
   "outputs": [
    {
     "data": {
      "text/html": [
       "<div>\n",
       "<style scoped>\n",
       "    .dataframe tbody tr th:only-of-type {\n",
       "        vertical-align: middle;\n",
       "    }\n",
       "\n",
       "    .dataframe tbody tr th {\n",
       "        vertical-align: top;\n",
       "    }\n",
       "\n",
       "    .dataframe thead th {\n",
       "        text-align: right;\n",
       "    }\n",
       "</style>\n",
       "<table border=\"1\" class=\"dataframe\">\n",
       "  <thead>\n",
       "    <tr style=\"text-align: right;\">\n",
       "      <th></th>\n",
       "      <th>previewCount_by_link</th>\n",
       "    </tr>\n",
       "    <tr>\n",
       "      <th>linkid</th>\n",
       "      <th></th>\n",
       "    </tr>\n",
       "  </thead>\n",
       "  <tbody>\n",
       "    <tr>\n",
       "      <th>006af6a0-1f0d-4b0c-93bf-756af9071c06</th>\n",
       "      <td>11</td>\n",
       "    </tr>\n",
       "    <tr>\n",
       "      <th>00759b81-3f04-4a61-b934-f8fb3185f4a0</th>\n",
       "      <td>1</td>\n",
       "    </tr>\n",
       "    <tr>\n",
       "      <th>00829040-ee01-4409-966d-d67c7965144a</th>\n",
       "      <td>9</td>\n",
       "    </tr>\n",
       "    <tr>\n",
       "      <th>00de7566-f014-4d20-8616-82e4dea45b88</th>\n",
       "      <td>1</td>\n",
       "    </tr>\n",
       "    <tr>\n",
       "      <th>0211bf4d-0e9d-46c2-889c-f97872280820</th>\n",
       "      <td>141</td>\n",
       "    </tr>\n",
       "    <tr>\n",
       "      <th>...</th>\n",
       "      <td>...</td>\n",
       "    </tr>\n",
       "    <tr>\n",
       "      <th>fd647d87-4c7a-4dd1-92c6-0e7dd7fdf4f1</th>\n",
       "      <td>101</td>\n",
       "    </tr>\n",
       "    <tr>\n",
       "      <th>fe24ad63-e347-40db-8e75-94e573bd3d9b</th>\n",
       "      <td>1</td>\n",
       "    </tr>\n",
       "    <tr>\n",
       "      <th>fe8a3fcd-7beb-4db0-8494-5238e1e1cab3</th>\n",
       "      <td>57</td>\n",
       "    </tr>\n",
       "    <tr>\n",
       "      <th>fe8f7a23-be9d-49a6-b9b5-d26823c3f911</th>\n",
       "      <td>22</td>\n",
       "    </tr>\n",
       "    <tr>\n",
       "      <th>ffd8d5a7-91bc-48e1-a692-c26fca8a8ead</th>\n",
       "      <td>21</td>\n",
       "    </tr>\n",
       "  </tbody>\n",
       "</table>\n",
       "<p>495 rows × 1 columns</p>\n",
       "</div>"
      ],
      "text/plain": [
       "                                      previewCount_by_link\n",
       "linkid                                                    \n",
       "006af6a0-1f0d-4b0c-93bf-756af9071c06                    11\n",
       "00759b81-3f04-4a61-b934-f8fb3185f4a0                     1\n",
       "00829040-ee01-4409-966d-d67c7965144a                     9\n",
       "00de7566-f014-4d20-8616-82e4dea45b88                     1\n",
       "0211bf4d-0e9d-46c2-889c-f97872280820                   141\n",
       "...                                                    ...\n",
       "fd647d87-4c7a-4dd1-92c6-0e7dd7fdf4f1                   101\n",
       "fe24ad63-e347-40db-8e75-94e573bd3d9b                     1\n",
       "fe8a3fcd-7beb-4db0-8494-5238e1e1cab3                    57\n",
       "fe8f7a23-be9d-49a6-b9b5-d26823c3f911                    22\n",
       "ffd8d5a7-91bc-48e1-a692-c26fca8a8ead                    21\n",
       "\n",
       "[495 rows x 1 columns]"
      ]
     },
     "execution_count": 211,
     "metadata": {},
     "output_type": "execute_result"
    }
   ],
   "source": [
    "\n",
    "gp=pd.DataFrame(grouped)\n",
    "gp.reset_index()\n",
    "gp.rename(columns={0:'previewCount_by_link'},inplace=True)\n",
    "gp"
   ]
  },
  {
   "cell_type": "code",
   "execution_count": 235,
   "id": "9f163fd3-a955-44bf-b55f-f324f548f6f4",
   "metadata": {},
   "outputs": [],
   "source": [
    "\n",
    "df5 = gp.merge(linkbyclick,on='linkid')\n"
   ]
  },
  {
   "cell_type": "code",
   "execution_count": 234,
   "id": "dd8ebdcc-3840-4b1b-b810-ac559e04894a",
   "metadata": {},
   "outputs": [
    {
     "data": {
      "text/html": [
       "<div>\n",
       "<style scoped>\n",
       "    .dataframe tbody tr th:only-of-type {\n",
       "        vertical-align: middle;\n",
       "    }\n",
       "\n",
       "    .dataframe tbody tr th {\n",
       "        vertical-align: top;\n",
       "    }\n",
       "\n",
       "    .dataframe thead th {\n",
       "        text-align: right;\n",
       "    }\n",
       "</style>\n",
       "<table border=\"1\" class=\"dataframe\">\n",
       "  <thead>\n",
       "    <tr style=\"text-align: right;\">\n",
       "      <th></th>\n",
       "      <th>previewCount_by_link</th>\n",
       "      <th>Click_count</th>\n",
       "    </tr>\n",
       "  </thead>\n",
       "  <tbody>\n",
       "    <tr>\n",
       "      <th>previewCount_by_link</th>\n",
       "      <td>1.000000</td>\n",
       "      <td>0.993422</td>\n",
       "    </tr>\n",
       "    <tr>\n",
       "      <th>Click_count</th>\n",
       "      <td>0.993422</td>\n",
       "      <td>1.000000</td>\n",
       "    </tr>\n",
       "  </tbody>\n",
       "</table>\n",
       "</div>"
      ],
      "text/plain": [
       "                      previewCount_by_link  Click_count\n",
       "previewCount_by_link              1.000000     0.993422\n",
       "Click_count                       0.993422     1.000000"
      ]
     },
     "execution_count": 234,
     "metadata": {},
     "output_type": "execute_result"
    }
   ],
   "source": [
    "df5\n",
    "df5.corr(numeric_only=True)"
   ]
  },
  {
   "cell_type": "code",
   "execution_count": 236,
   "id": "5964273d-959d-4190-ba5b-d32ec7c86c3b",
   "metadata": {},
   "outputs": [
    {
     "data": {
      "text/plain": [
       "PearsonRResult(statistic=0.9934224704248963, pvalue=0.0)"
      ]
     },
     "execution_count": 236,
     "metadata": {},
     "output_type": "execute_result"
    }
   ],
   "source": [
    "from scipy import stats\n",
    "stats.pearsonr(x=df5[\"previewCount_by_link\"], y=df5[\"Click_count\"])"
   ]
  },
  {
   "cell_type": "code",
   "execution_count": 237,
   "id": "bc558a52-4d57-4466-a643-42dc8550d1a7",
   "metadata": {},
   "outputs": [],
   "source": [
    "#Answer Almost perfectly positive correlation between the number of clicks and previews which seems logical; given that the one is actually dependent on the other"
   ]
  },
  {
   "cell_type": "code",
   "execution_count": 251,
   "id": "4286b126-00e8-4b9f-84b7-07ed9996fc1c",
   "metadata": {},
   "outputs": [],
   "source": []
  },
  {
   "cell_type": "code",
   "execution_count": null,
   "id": "d22d54ed-48a6-43b6-ae58-d6b7b1b2c178",
   "metadata": {},
   "outputs": [],
   "source": []
  }
 ],
 "metadata": {
  "kernelspec": {
   "display_name": "Python 3 (ipykernel)",
   "language": "python",
   "name": "python3"
  },
  "language_info": {
   "codemirror_mode": {
    "name": "ipython",
    "version": 3
   },
   "file_extension": ".py",
   "mimetype": "text/x-python",
   "name": "python",
   "nbconvert_exporter": "python",
   "pygments_lexer": "ipython3",
   "version": "3.12.3"
  }
 },
 "nbformat": 4,
 "nbformat_minor": 5
}
